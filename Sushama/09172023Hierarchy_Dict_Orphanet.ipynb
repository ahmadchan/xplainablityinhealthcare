{
  "nbformat": 4,
  "nbformat_minor": 0,
  "metadata": {
    "colab": {
      "provenance": []
    },
    "kernelspec": {
      "name": "python3",
      "display_name": "Python 3"
    },
    "language_info": {
      "name": "python"
    }
  },
  "cells": [
    {
      "cell_type": "markdown",
      "source": [
        "# Medical Name Entity Recognition\n",
        "1. I want you to apply Natural Language tools to the unstrutured medical data and provide some clean outputs.\n",
        "For example:\n",
        "**Input:** Itching on the whole body might be a symptom of an underlying illness, such as liver disease, kidney disease, anemia, diabetes, thyroid problems and certain cancers. Nerve disorders. Examples include multiple sclerosis, pinched nerves and shingles (herpes zoster). Psychiatric conditions.\n",
        "\n",
        "**Output:** Itching, illness, liver disease, kidney disease, anemia, diabetes, thyroid, cancer, Nerve disorders, sclerosis, pinched nerves, shingles, herpes zoster, Psychiatric conditions.\n",
        "\n",
        "2. This is an interesting thing and I don't think much diffcult. You can use NLP techniques like sentence detection, word detection, stop-word removal, etc to clean the data and then you can use the trained Medical Name entity recognition algorithms to find medical concepts.\n",
        "\n",
        "3. These library can be explored for NLP tasks. Some of the popular NLP libraries for data cleaning include:\n",
        "\n",
        "NLTK (Natural Language Toolkit): NLTK is a comprehensive library for NLP tasks, including data cleaning, tokenization, stemming, lemmatization, part-of-speech tagging, and more.\n",
        "\n",
        "spaCy: spaCy is a fast and efficient NLP library that provides functionalities for tokenization, named entity recognition, and part-of-speech tagging, which can be useful for data cleaning.\n",
        "\n",
        "TextBlob: TextBlob is built on top of NLTK and provides a simplified interface for common NLP tasks, including text cleaning and sentiment analysis.\n",
        "\n",
        "gensim: While gensim is primarily known for topic modeling, it also offers tools for data preprocessing, such as text cleaning and word tokenization.\n",
        "\n",
        "BeautifulSoup: BeautifulSoup is not an NLP library per se, but it is a widely used library for parsing and extracting data from HTML and XML documents, which can be helpful when dealing with web text data.\n",
        "\n",
        "regex (re module): Python's built-in re module provides support for regular expressions, which are powerful tools for pattern matching and text cleaning.\n",
        "\n",
        "4. For medical name entity recognition try to explore this link --> https://paperswithcode.com/task/medical-named-entity-recognition"
      ],
      "metadata": {
        "id": "DBU_jUSYSRhS"
      }
    },
    {
      "cell_type": "code",
      "source": [
        "import sqlite3"
      ],
      "metadata": {
        "id": "KOL12WXDrAad"
      },
      "execution_count": 1,
      "outputs": []
    },
    {
      "cell_type": "code",
      "source": [
        "conn = sqlite3.connect(\"hierarchyMedicalConcepts.db\")\n",
        "cursor = conn.cursor()\n",
        "# drop the table first and only then create\n",
        "dropQuery= \"DROP TABLE IF EXISTS hierarchyMedicalConcepts\"\n",
        "cursor.execute(dropQuery)\n",
        "cursor.execute(\"\"\"\n",
        "    CREATE TABLE IF NOT EXISTS hierarchyMedicalConcepts(\n",
        "        classDetailsId NVARCHAR(160),\n",
        "        prefLabelParent NVARCHAR(160),\n",
        "        distance1ID NVARCHAR(160) DEFAULT NULL,\n",
        "        prefLabel1 NVARCHAR(160) DEFAULT NULL,\n",
        "        distance2ID NVARCHAR(160) DEFAULT NULL,\n",
        "        prefLabel2 NVARCHAR(160) DEFAULT NULL,\n",
        "        distance3ID NVARCHAR(160) DEFAULT NULL,\n",
        "        prefLabel3 NVARCHAR(160) DEFAULT NULL,\n",
        "        distance4ID NVARCHAR(160) DEFAULT NULL,\n",
        "        prefLabel4 NVARCHAR(160) DEFAULT NULL,\n",
        "        distance5ID NVARCHAR(160) DEFAULT NULL,\n",
        "        prefLabel5 NVARCHAR(160) DEFAULT NULL\n",
        "    )\n",
        "\"\"\")"
      ],
      "metadata": {
        "colab": {
          "base_uri": "https://localhost:8080/"
        },
        "id": "YJaE9rxyrOyH",
        "outputId": "ae4fa21b-8f9b-4043-fadc-e121e5c44695"
      },
      "execution_count": 2,
      "outputs": [
        {
          "output_type": "execute_result",
          "data": {
            "text/plain": [
              "<sqlite3.Cursor at 0x791bfc1c08c0>"
            ]
          },
          "metadata": {},
          "execution_count": 2
        }
      ]
    },
    {
      "cell_type": "code",
      "source": [
        "displayAllQuery=\"PRAGMA table_info (hierarchyMedicalConcepts)\"#\"Select * from hierarchyMedicalConcepts\"\n",
        "cursor.execute(displayAllQuery)\n",
        "results = cursor.fetchall()\n",
        "print(results)\n",
        "#for row in results:\n",
        " # display += f\"classDetailsId: {row[0]}, distance1: {row[1]}, distance2: {row[2]}, distance3: {row[3]}, distance4:{row[4]}, distance5:{row[5]}\""
      ],
      "metadata": {
        "colab": {
          "base_uri": "https://localhost:8080/"
        },
        "id": "h0_f9VOLsHJO",
        "outputId": "f02b26c5-beda-412e-d842-1cfd674f75b1"
      },
      "execution_count": 3,
      "outputs": [
        {
          "output_type": "stream",
          "name": "stdout",
          "text": [
            "[(0, 'classDetailsId', 'NVARCHAR(160)', 0, None, 0), (1, 'prefLabelParent', 'NVARCHAR(160)', 0, None, 0), (2, 'distance1ID', 'NVARCHAR(160)', 0, 'NULL', 0), (3, 'prefLabel1', 'NVARCHAR(160)', 0, 'NULL', 0), (4, 'distance2ID', 'NVARCHAR(160)', 0, 'NULL', 0), (5, 'prefLabel2', 'NVARCHAR(160)', 0, 'NULL', 0), (6, 'distance3ID', 'NVARCHAR(160)', 0, 'NULL', 0), (7, 'prefLabel3', 'NVARCHAR(160)', 0, 'NULL', 0), (8, 'distance4ID', 'NVARCHAR(160)', 0, 'NULL', 0), (9, 'prefLabel4', 'NVARCHAR(160)', 0, 'NULL', 0), (10, 'distance5ID', 'NVARCHAR(160)', 0, 'NULL', 0), (11, 'prefLabel5', 'NVARCHAR(160)', 0, 'NULL', 0)]\n"
          ]
        }
      ]
    },
    {
      "cell_type": "code",
      "source": [
        "# Code here"
      ],
      "metadata": {
        "id": "5jTEJnCoVfwM"
      },
      "execution_count": null,
      "outputs": []
    },
    {
      "cell_type": "markdown",
      "source": [
        "# NESTED Dictionary creation for Bioportal Onotologies Generated data about Hierarchies.\n",
        "\n",
        "**Example Input:**\n",
        "\n",
        "Class details\n",
        "\tid: http://purl.bioontology.org/ontology/SNMI/G-A425\n",
        "\tprefLabel: Malignant\n",
        "\tontology: https://data.bioontology.org/ontologies/SNMI\n",
        "Annotation details\n",
        "\tfrom: 1\n",
        "\tto: 9\n",
        "\tmatch type: PREF\n",
        "\n",
        "\tHierarchy annotations\n",
        "\t\tClass details\n",
        "\t\t\tid: http://purl.bioontology.org/ontology/SNMI/G-A200\n",
        "\t\t\tprefLabel: Positive\n",
        "\t\t\tontology: https://data.bioontology.org/ontologies/SNMI\n",
        "\t\t\tdistance from originally annotated class: 1\n",
        "\t\tClass details\n",
        "\t\t\tid: http://purl.bioontology.org/ontology/SNMI/G-A000\n",
        "\t\t\tprefLabel: Severity of illness, NOS\n",
        "\t\t\tontology: https://data.bioontology.org/ontologies/SNMI\n",
        "\t\t\tdistance from originally annotated class: 2\n",
        "\t\tClass details\n",
        "\t\t\tid: http://purl.bioontology.org/ontology/SNMI/G\n",
        "\t\t\tprefLabel: GENERAL LINKAGE/MODIFIERS\n",
        "\t\t\tontology: https://data.bioontology.org/ontologies/SNMI\n",
        "\t\t\tdistance from originally annotated class: 3\n",
        "\n",
        "**Example output in Nested Dictionary Form:**\n",
        "hierarchies = {\n",
        "    1: {\n",
        "        'hiearachy_1': 'Positive',\n",
        "        'hiearachy_2': 'Severity of illness, NOS',\n",
        "        'hiearachy_3': 'GENERAL LINKAGE/MODIFIERS'\n",
        "        'match_type': 'PREF'\n",
        "    },\n",
        "    2: {\n",
        "        'hiearachy_1': 'Positive',\n",
        "        'hiearachy_2': 'Severity of illness',\n",
        "        'hiearachy_3': 'GENERAL LINKAGE/MODIFIERS'\n",
        "        'match_type': 'Synon'\n",
        "    }\n",
        "}\n",
        "\n",
        "Things to consider:\n",
        "1. Data should be in English language, translate or remove any content out of english.\n",
        "2. Try to remove repetatives.\n",
        "3. Python dictionary default size may exceed. Try using json format and create file instead.\n",
        "\n",
        "\n"
      ],
      "metadata": {
        "id": "qAqVol67Uu1p"
      }
    },
    {
      "cell_type": "code",
      "source": [
        "import urllib.request, urllib.error, urllib.parse\n",
        "import json\n",
        "import os\n",
        "#from typing import None\n",
        "from pprint import pprint\n",
        "\n",
        "REST_URL = \"http://data.bioontology.org\"\n",
        "API_KEY = \"396993d0-4ce2-4123-93de-214e9b9ebcf2\"\n",
        "concepts_list=['Orphanet']#['severe acute respiratory syndrome','joint']\n",
        "\n",
        "def get_json(url):\n",
        "    opener = urllib.request.build_opener()\n",
        "    opener.addheaders = [('Authorization', 'apikey token=' + API_KEY)]\n",
        "    return json.loads(opener.open(url).read())\n",
        "\n",
        "def print_annotations(annotations, get_class=True):\n",
        "    for result in annotations:\n",
        "        class_details = result[\"annotatedClass\"]\n",
        "        if get_class:\n",
        "            try:\n",
        "                class_details = get_json(result[\"annotatedClass\"][\"links\"][\"self\"])\n",
        "                classDetailsId=class_details[\"@id\"]\n",
        "                prefLabelParent=str(class_details[\"prefLabel\"])\n",
        "            except urllib.error.HTTPError:\n",
        "                print(f\"Error retrieving {result['annotatedClass']['@id']}\")\n",
        "                continue\n",
        "        print(\"Class details\")\n",
        "        print(\"\\tid: \" + class_details[\"@id\"])\n",
        "        print(\"\\tprefLabel: \" + str(class_details[\"prefLabel\"]))\n",
        "        print(\"\\tontology: \" + class_details[\"links\"][\"ontology\"])\n",
        "\n",
        "        print(\"Annotation details\")\n",
        "        for annotation in result[\"annotations\"]:\n",
        "            print(\"\\tfrom: \" + str(annotation[\"from\"]))\n",
        "            print(\"\\tto: \" + str(annotation[\"to\"]))\n",
        "            print(\"\\tmatch type: \" + annotation[\"matchType\"])\n",
        "\n",
        "        if result[\"hierarchy\"]:\n",
        "            print(\"\\n\\tHierarchy annotations\")\n",
        "            for annotation in result[\"hierarchy\"]:\n",
        "                try:\n",
        "                    class_details = get_json(annotation[\"annotatedClass\"][\"links\"][\"self\"])\n",
        "                except urllib.error.HTTPError:\n",
        "                    print(f\"Error retrieving {annotation['annotatedClass']['@id']}\")\n",
        "                    continue\n",
        "                pref_label = class_details[\"prefLabel\"] or \"no label\"\n",
        "                print(\"\\t\\tClass details\")\n",
        "                print(\"\\t\\t\\tid: \" + class_details[\"@id\"])\n",
        "                print(\"\\t\\t\\tprefLabel: \" + str(class_details[\"prefLabel\"]))\n",
        "                print(\"\\t\\t\\tontology: \" + class_details[\"links\"][\"ontology\"])\n",
        "                print(\"\\t\\t\\tdistance from originally annotated class: \" + str(annotation[\"distance\"]))\n",
        "\n",
        "                if str(annotation[\"distance\"])==\"1\":\n",
        "                  prefLabel1=pref_label\n",
        "                  distance1ID=class_details[\"@id\"]\n",
        "                  # setting initial value to NULL for rest Hierarchies\n",
        "                  prefLabel2 = None\n",
        "                  distance2ID= None\n",
        "                  prefLabel3=None\n",
        "                  distance3ID=None\n",
        "                  prefLabel4=None\n",
        "                  distance4ID=None\n",
        "                  prefLabel5=None\n",
        "                  distance5ID=None\n",
        "                  pass\n",
        "                elif str(annotation[\"distance\"])==\"2\":\n",
        "                  prefLabel2=pref_label\n",
        "                  distance2ID=class_details[\"@id\"]\n",
        "                  pass\n",
        "                elif str(annotation[\"distance\"])==\"3\":\n",
        "                  prefLabel3=pref_label\n",
        "                  distance3ID=class_details[\"@id\"]\n",
        "                  pass\n",
        "                elif str(annotation[\"distance\"])==\"4\":\n",
        "                  prefLabel4=pref_label\n",
        "                  distance4ID=class_details[\"@id\"]\n",
        "                  pass\n",
        "                elif str(annotation[\"distance\"])==\"5\":\n",
        "                  prefLabel5=pref_label\n",
        "                  distance5ID=class_details[\"@id\"]\n",
        "                  pass\n",
        "\n",
        "            insertQuery=\"INSERT INTO hierarchyMedicalConcepts (classDetailsId,prefLabelParent,prefLabel1,distance1ID,prefLabel2,distance2ID,prefLabel3,distance3ID,prefLabel4,distance4ID,prefLabel5,distance5ID) VALUES(?, ?, ?, ?, ?, ?, ?, ?, ?, ?, ?,?) \"\n",
        "            conn.execute(insertQuery,(classDetailsId,prefLabelParent,prefLabel1,distance1ID,prefLabel2,distance2ID,prefLabel3,distance3ID,prefLabel4,distance4ID,prefLabel5,distance5ID))\n",
        "\n",
        "        print(\"\\n\\n\")\n",
        "\n",
        "for i in concepts_list:\n",
        " text_to_annotate = i\n",
        "\n",
        "# Annotate using the provided text\n",
        " annotations = get_json(REST_URL + \"/annotator?text=\" + urllib.parse.quote(text_to_annotate))\n",
        "\n",
        "# Print out annotation details\n",
        " print_annotations(annotations)\n",
        "\n",
        "# Annotate with hierarchy information\n",
        " annotations = get_json(REST_URL + \"/annotator?max_level=5&text=\" + urllib.parse.quote(text_to_annotate))\n",
        " print_annotations(annotations)\n",
        "\n",
        "# Annotate with prefLabel, synonym, definition returned\n",
        " annotations = get_json(REST_URL + \"/annotator?include=prefLabel,synonym,definition&text=\" + urllib.parse.quote(text_to_annotate))\n",
        " print_annotations(annotations, False)"
      ],
      "metadata": {
        "colab": {
          "base_uri": "https://localhost:8080/"
        },
        "id": "9fmv0ckwRz6i",
        "outputId": "ed606c53-48d1-44c7-90fa-cdfd3c597c6b"
      },
      "execution_count": 4,
      "outputs": [
        {
          "output_type": "stream",
          "name": "stdout",
          "text": [
            "Class details\n",
            "\tid: http://purl.obolibrary.org/obo/MI_1350\n",
            "\tprefLabel: orphanet\n",
            "\tontology: https://data.bioontology.org/ontologies/MI\n",
            "Annotation details\n",
            "\tfrom: 1\n",
            "\tto: 8\n",
            "\tmatch type: PREF\n",
            "\n",
            "\n",
            "\n",
            "Class details\n",
            "\tid: http://purl.obolibrary.org/obo/MI_1350\n",
            "\tprefLabel: orphanet\n",
            "\tontology: https://data.bioontology.org/ontologies/MI\n",
            "Annotation details\n",
            "\tfrom: 1\n",
            "\tto: 8\n",
            "\tmatch type: PREF\n",
            "\n",
            "\tHierarchy annotations\n",
            "\t\tClass details\n",
            "\t\t\tid: http://purl.obolibrary.org/obo/MI_1336\n",
            "\t\t\tprefLabel: experiment database\n",
            "\t\t\tontology: https://data.bioontology.org/ontologies/MI\n",
            "\t\t\tdistance from originally annotated class: 1\n",
            "\t\tClass details\n",
            "\t\t\tid: http://purl.obolibrary.org/obo/MI_0444\n",
            "\t\t\tprefLabel: database citation\n",
            "\t\t\tontology: https://data.bioontology.org/ontologies/MI\n",
            "\t\t\tdistance from originally annotated class: 2\n",
            "\t\tClass details\n",
            "\t\t\tid: http://purl.obolibrary.org/obo/MI_0000\n",
            "\t\t\tprefLabel: molecular interaction\n",
            "\t\t\tontology: https://data.bioontology.org/ontologies/MI\n",
            "\t\t\tdistance from originally annotated class: 3\n",
            "\n",
            "\n",
            "\n",
            "Class details\n",
            "\tid: http://purl.obolibrary.org/obo/MI_1350\n",
            "\tprefLabel: orphanet\n",
            "\tontology: https://data.bioontology.org/ontologies/MI\n",
            "Annotation details\n",
            "\tfrom: 1\n",
            "\tto: 8\n",
            "\tmatch type: PREF\n",
            "\n",
            "\n",
            "\n"
          ]
        }
      ]
    },
    {
      "cell_type": "code",
      "source": [
        "cursor.execute(\"SELECT * FROM hierarchyMedicalConcepts\")"
      ],
      "metadata": {
        "colab": {
          "base_uri": "https://localhost:8080/"
        },
        "id": "_dOPXLXhld_h",
        "outputId": "eedbf5dc-64ee-491c-9313-0235c32cc858"
      },
      "execution_count": 5,
      "outputs": [
        {
          "output_type": "execute_result",
          "data": {
            "text/plain": [
              "<sqlite3.Cursor at 0x791bfc1c08c0>"
            ]
          },
          "metadata": {},
          "execution_count": 5
        }
      ]
    },
    {
      "cell_type": "code",
      "source": [
        "rows = cursor.fetchall()\n",
        "\n",
        "# Print the results\n",
        "for row in rows:\n",
        "    print(row)"
      ],
      "metadata": {
        "colab": {
          "base_uri": "https://localhost:8080/"
        },
        "id": "TR4E7UVwlfwz",
        "outputId": "e051430c-e42b-41ed-d102-980f7871aad1"
      },
      "execution_count": 6,
      "outputs": [
        {
          "output_type": "stream",
          "name": "stdout",
          "text": [
            "\n",
            "hello ('http://purl.obolibrary.org/obo/MI_1350', 'orphanet', 'http://purl.obolibrary.org/obo/MI_1336', 'experiment database', 'http://purl.obolibrary.org/obo/MI_0444', 'database citation', 'http://purl.obolibrary.org/obo/MI_0000', 'molecular interaction', None, None, None, None)\n"
          ]
        }
      ]
    },
    {
      "cell_type": "code",
      "source": [
        "print(cursor.execute(\"SELECT count(*) FROM hierarchyMedicalConcepts\").fetchall())"
      ],
      "metadata": {
        "colab": {
          "base_uri": "https://localhost:8080/"
        },
        "id": "JEchbZxdCrc0",
        "outputId": "8871a180-bcc0-4f1d-c2af-83349749081c"
      },
      "execution_count": 7,
      "outputs": [
        {
          "output_type": "stream",
          "name": "stdout",
          "text": [
            "[(1,)]\n"
          ]
        }
      ]
    },
    {
      "cell_type": "code",
      "source": [],
      "metadata": {
        "id": "feAL3JUOyo_F"
      },
      "execution_count": null,
      "outputs": []
    }
  ]
}