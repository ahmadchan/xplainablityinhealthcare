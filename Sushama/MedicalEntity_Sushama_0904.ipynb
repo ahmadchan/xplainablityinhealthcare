{
  "cells": [
    {
      "cell_type": "code",
      "execution_count": 8,
      "metadata": {
        "colab": {
          "base_uri": "https://localhost:8080/"
        },
        "id": "5jTEJnCoVfwM",
        "outputId": "1c40274e-5849-4db3-fa17-fc2b86f7744e"
      },
      "outputs": [
        {
          "output_type": "stream",
          "name": "stdout",
          "text": [
            "\u001b[33mWARNING: Ignoring invalid distribution -pacy (/usr/local/lib/python3.10/dist-packages)\u001b[0m\u001b[33m\n",
            "\u001b[0m\u001b[33mWARNING: Ignoring invalid distribution -pacy (/usr/local/lib/python3.10/dist-packages)\u001b[0m\u001b[33m\n",
            "\u001b[0m\u001b[31mERROR: pip's dependency resolver does not currently take into account all the packages that are installed. This behaviour is the source of the following dependency conflicts.\n",
            "en-core-sci-sm 0.5.1 requires spacy<3.5.0,>=3.4.1, but you have spacy 3.6.1 which is incompatible.\n",
            "scispacy 0.5.2 requires spacy<3.5.0,>=3.4.0, but you have spacy 3.6.1 which is incompatible.\u001b[0m\u001b[31m\n",
            "\u001b[0m\u001b[33mWARNING: Ignoring invalid distribution -pacy (/usr/local/lib/python3.10/dist-packages)\u001b[0m\u001b[33m\n",
            "\u001b[0m\u001b[33mWARNING: Ignoring invalid distribution -pacy (/usr/local/lib/python3.10/dist-packages)\u001b[0m\u001b[33m\n",
            "\u001b[0m\u001b[31mERROR: pip's dependency resolver does not currently take into account all the packages that are installed. This behaviour is the source of the following dependency conflicts.\n",
            "en-core-web-sm 3.6.0 requires spacy<3.7.0,>=3.6.0, but you have spacy 3.4.4 which is incompatible.\u001b[0m\u001b[31m\n",
            "\u001b[0m\u001b[33mWARNING: Ignoring invalid distribution -pacy (/usr/local/lib/python3.10/dist-packages)\u001b[0m\u001b[33m\n",
            "\u001b[0m  Preparing metadata (setup.py) ... \u001b[?25l\u001b[?25hdone\n",
            "\u001b[33mWARNING: Ignoring invalid distribution -pacy (/usr/local/lib/python3.10/dist-packages)\u001b[0m\u001b[33m\n",
            "\u001b[0m"
          ]
        }
      ],
      "source": [
        "!pip install -q -U spacy\n",
        "!pip install -q scispacy\n",
        "!pip install -q https://s3-us-west-2.amazonaws.com/ai2-s2-scispacy/releases/v0.5.1/en_core_sci_sm-0.5.1.tar.gz"
      ]
    },
    {
      "cell_type": "code",
      "source": [
        "import scispacy\n",
        "import spacy\n",
        "import en_core_sci_sm\n",
        "def fetchEntity(unstructuredText=\"unstructured text npt provided as input\"):\n",
        "  nlp_sm = en_core_sci_sm.load()\n",
        "  doc = nlp_sm(unstructuredText)\n",
        "  entityList=list(doc.ents)\n",
        "  #print(\"entityList is as follows: \\n\", entityList)\n",
        "  return entityList"
      ],
      "metadata": {
        "id": "-8tQjsgRiOSe"
      },
      "execution_count": 16,
      "outputs": []
    },
    {
      "cell_type": "code",
      "source": [
        "import pandas as pd\n",
        "mtsample_df=pd.read_csv(\"mtsamples.csv\")\n",
        "text = mtsample_df.loc[120, \"transcription\"]\n",
        "entityList=fetchEntity(text)\n",
        "print(\"entityList obtained follows: \\n\", entityList)\n",
        "#fetchEntity()"
      ],
      "metadata": {
        "colab": {
          "base_uri": "https://localhost:8080/"
        },
        "id": "FLj1WADoqMHZ",
        "outputId": "c3a43c62-8a34-4fa0-e097-325c371c60f7"
      },
      "execution_count": 18,
      "outputs": [
        {
          "output_type": "stream",
          "name": "stdout",
          "text": [
            "entityList obtained follows: \n",
            " [no history, sexually transmitted, diseases.,PAST MEDICAL HISTORY, None.,PAST SURGICAL HISTORY, Back surgery, fusion, L5-S1.,MEDICATIONS, Percocet, smoker, alcohol, dynamite, work, putting, dynamite, holes, destroying, pipeline, laid, travels, HISTORY, Negative, prostate cancer, kidney cancer, bladder cancer, enlarged prostate, kidney disease.,REVIEW OF, Negative, tremors, headaches, dizzy spells, numbness, tingling, hot or cold, tired, sluggishness, abdominal pain, nausea, vomiting, indigestion, heartburn, fevers, chills, weight loss, wheezing, frequent, cough, shortness of breath, chest pain, varicose veins, high blood pressure, skin rash, joint pain, ear infections, sore throat, sinus problems, hay fever, blood clotting problems, depressive affect, eye problems.,PHYSICAL EXAMINATION, GENERAL, patient, afebrile, stable, pounds, feet, inches, Blood pressure, healthy, appearing, alert, Regular rate, rhythm.,LUNGS, nontender, cauliflower-like lesion, dorsum, penis, apparent, brown lesion, patient, remember, size, caliber, testicles, bilaterally, PLAN, genital warts, HPV, patient, viral infection, long incubation period, sexually transmitted, sex, try, transmission, actual, lesion, I did mention, cream, Condylox, month, C02 laser therapy, genital warts, outpatient procedure, patient, something quick, effective, CO2 laser procedure, recurrence rate, significant, somewhere, lesions, patient, minimal, risk, laser injury, accidental injury, patient]\n"
          ]
        }
      ]
    },
    {
      "cell_type": "code",
      "source": [
        "fetchEntity()"
      ],
      "metadata": {
        "colab": {
          "base_uri": "https://localhost:8080/"
        },
        "id": "MYgEeEWBxGi8",
        "outputId": "f1eadcaf-88fa-4e39-ba67-6369bc25330f"
      },
      "execution_count": 17,
      "outputs": [
        {
          "output_type": "execute_result",
          "data": {
            "text/plain": [
              "[]"
            ]
          },
          "metadata": {},
          "execution_count": 17
        }
      ]
    },
    {
      "cell_type": "code",
      "source": [
        "fetchEntity(\"PREOPERATIVE DIAGNOSIS:  ,Carcinoma of the prostate, clinical stage T1C.,POSTOPERATIVE DIAGNOSIS: , Carcinoma of the prostate, clinical stage T1C.,TITLE OF OPERATION: , Cystoscopy, cryosurgical ablation of the prostate.,FINDINGS:  ,After measurement of the prostate, we decided to place 5 rows of needles--row #1 had 3 needles, row #2 at the level of the mid-prostate had 4 needles, row #3 had 2 needles in the right lateral peripheral zone, row #4 was a single needle directly the urethra, and in row #5 were 2 needles placed in the left lateral peripheral zone.  Because of the length of the prostate, a pull-back was performed, pulling row #2 approximately 3 mm and rows #3, #4 and #5 approximately 1 cm back before refreezing.,OPERATION IN DETAIL: , The patient was brought to the operating room and placed in the supine position.  After adequate general endotracheal anesthesia was obtained, the patient was positioned in the dorsal lithotomy position.  Full bowel prep had been obtained prior to the procedure.  After performing flexible cystoscopy, a Foley catheter was placed per urethra into the bladder.  Next, the ultrasound probe was placed into the stabilizer and advanced into the rectum.  An excellent ultrasound image was visualized of the entire prostate, which was re-measured.  Next, the probe template was positioned over the perineum and the template guide brought up on the ultrasound screen in order to guide needle placement.  Then 17-gauge needles were serially placed into the prostate, from an anterior to posterior direction into the prostate.  Ultrasound guidance demonstrated that these needles, numbering approximately 14 to 15 needles, were well placed and spaced throughout the prostate to obtain excellent freezing of the entire gland while sparing the urethra.  Repeat cystoscopy demonstrated a single needle passing through the urethra; and due to the high anterior location of this needle, it was removed.  The CMS urethral warmer was then passed per urethra into the bladder, and flow instituted.  After placing these 17-gauge needles, the prostate was then frozen down to minus 150 degrees for 10 minutes in sequential fashion from anterior to posterior.  The ice ball was monitored and was seen to extend through the capsule of the prostate toward the rectum but not through the rectal wall itself.  Active warming was then performed before refreezing the prostate again and then passively warming it back to room temperature.  The urethral warmer was left on after the needles were removed and the patient brought to the recovery room.  The patient tolerated the procedure well and left the operating room in stable condition. REASON FOR VISIT: , Followup circumcision.,HISTORY OF PRESENT ILLNESS: , The patient had his circumcision performed on 09/16/2007 here at Children's Hospital.  The patient had a pretty significant phimosis and his operative course was smooth.  He did have a little bit of bleeding when he woke in recovery room, which required placement of some additional sutures, but after that, his recovery has been complete.  His mom did note that she had to him a couple of days of oral analgesics, but he seems to be back to normal and pain free now.  He is having no difficulty urinating, and his bowel function remains normal.,PHYSICAL EXAMINATION:  ,Today, The patient looks healthy and happy.  We examined his circumcision site.  His Monocryl sutures are still in place.  The healing is excellent, and there is only a mild amount of residual postoperative swelling.  There was one area where he had some recurrent adhesions at the coronal sulcus, and I gently lysed this today and applied antibiotic ointment showing this to mom had to especially lubricate this area until the healing is completed.,IMPRESSION: , Satisfactory course after circumcision for severe phimosis with no perioperative complications.,PLAN:  ,The patient came in followup for his routine care with Dr. X, but should not need any further routine surgical followup unless he develops any type of difficulty with this surgical wound.  If that does occur, we will be happy to see him back at any time.,\")"
      ],
      "metadata": {
        "colab": {
          "base_uri": "https://localhost:8080/"
        },
        "id": "3Qj5D-eV4AJE",
        "outputId": "5a70fb9d-b588-484a-b896-47dd64b8d882"
      },
      "execution_count": 19,
      "outputs": [
        {
          "output_type": "execute_result",
          "data": {
            "text/plain": [
              "[PREOPERATIVE,\n",
              " DIAGNOSIS,\n",
              " prostate,\n",
              " clinical stage T1C.,POSTOPERATIVE DIAGNOSIS,\n",
              " Carcinoma of the,\n",
              " prostate,\n",
              " clinical stage T1C.,TITLE OF,\n",
              " OPERATION,\n",
              " Cystoscopy,\n",
              " cryosurgical ablation,\n",
              " prostate.,FINDINGS,\n",
              " measurement,\n",
              " prostate,\n",
              " needles--row,\n",
              " needles,\n",
              " level,\n",
              " mid-prostate,\n",
              " needles,\n",
              " needles,\n",
              " right lateral peripheral zone,\n",
              " needle,\n",
              " urethra,\n",
              " needles,\n",
              " left lateral peripheral zone,\n",
              " length,\n",
              " prostate,\n",
              " pull-back,\n",
              " rows,\n",
              " refreezing.,OPERATION,\n",
              " DETAIL,\n",
              " patient,\n",
              " operating room,\n",
              " supine position,\n",
              " adequate,\n",
              " general endotracheal anesthesia,\n",
              " patient,\n",
              " positioned,\n",
              " dorsal lithotomy position,\n",
              " Full bowel,\n",
              " procedure,\n",
              " flexible cystoscopy,\n",
              " Foley catheter,\n",
              " bladder,\n",
              " ultrasound probe,\n",
              " stabilizer,\n",
              " advanced,\n",
              " rectum,\n",
              " ultrasound image,\n",
              " prostate,\n",
              " re-measured,\n",
              " probe,\n",
              " template,\n",
              " positioned,\n",
              " perineum,\n",
              " template,\n",
              " ultrasound screen,\n",
              " needle,\n",
              " placement,\n",
              " 17-gauge needles,\n",
              " prostate,\n",
              " anterior,\n",
              " posterior direction,\n",
              " prostate,\n",
              " Ultrasound guidance,\n",
              " needles,\n",
              " needles,\n",
              " prostate,\n",
              " freezing,\n",
              " entire gland,\n",
              " urethra,\n",
              " Repeat cystoscopy,\n",
              " needle,\n",
              " passing,\n",
              " urethra,\n",
              " anterior,\n",
              " location,\n",
              " needle,\n",
              " CMS,\n",
              " urethral warmer,\n",
              " bladder,\n",
              " flow,\n",
              " 17-gauge needles,\n",
              " prostate,\n",
              " frozen,\n",
              " minus,\n",
              " sequential,\n",
              " fashion,\n",
              " anterior,\n",
              " posterior,\n",
              " ice ball,\n",
              " monitored,\n",
              " capsule,\n",
              " prostate,\n",
              " rectum,\n",
              " rectal wall,\n",
              " Active warming,\n",
              " prostate again,\n",
              " passively warming,\n",
              " room,\n",
              " temperature,\n",
              " urethral warmer,\n",
              " needles,\n",
              " removed,\n",
              " patient,\n",
              " recovery room,\n",
              " patient,\n",
              " procedure,\n",
              " operating room,\n",
              " stable condition,\n",
              " VISIT,\n",
              " Followup circumcision.,HISTORY OF PRESENT,\n",
              " ILLNESS,\n",
              " patient,\n",
              " circumcision,\n",
              " Children's Hospital,\n",
              " patient,\n",
              " pretty,\n",
              " phimosis,\n",
              " operative course,\n",
              " smooth,\n",
              " bleeding,\n",
              " woke,\n",
              " recovery room,\n",
              " placement,\n",
              " sutures,\n",
              " recovery,\n",
              " mom,\n",
              " couple,\n",
              " days,\n",
              " oral analgesics,\n",
              " normal,\n",
              " pain free now,\n",
              " bowel function,\n",
              " Today,\n",
              " patient looks healthy,\n",
              " happy,\n",
              " circumcision site,\n",
              " Monocryl sutures,\n",
              " healing,\n",
              " excellent,\n",
              " mild amount,\n",
              " residual,\n",
              " postoperative swelling,\n",
              " recurrent,\n",
              " adhesions,\n",
              " coronal sulcus,\n",
              " I,\n",
              " antibiotic,\n",
              " ointment,\n",
              " mom,\n",
              " healing,\n",
              " completed.,IMPRESSION,\n",
              " Satisfactory course,\n",
              " circumcision,\n",
              " severe,\n",
              " phimosis,\n",
              " perioperative,\n",
              " complications.,PLAN,\n",
              " patient,\n",
              " followup,\n",
              " routine care,\n",
              " Dr. X,\n",
              " surgical followup unless,\n",
              " develops,\n",
              " difficulty,\n",
              " surgical,\n",
              " happy]"
            ]
          },
          "metadata": {},
          "execution_count": 19
        }
      ]
    }
  ],
  "metadata": {
    "colab": {
      "provenance": []
    },
    "kernelspec": {
      "display_name": "Python 3",
      "name": "python3"
    },
    "language_info": {
      "name": "python"
    }
  },
  "nbformat": 4,
  "nbformat_minor": 0
}