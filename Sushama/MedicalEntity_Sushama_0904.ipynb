{
  "cells": [
    {
      "cell_type": "code",
      "execution_count": null,
      "metadata": {
        "colab": {
          "base_uri": "https://localhost:8080/"
        },
        "id": "5jTEJnCoVfwM",
        "outputId": "97537e31-677e-4cf9-aa04-6a5a7072b7ca"
      },
      "outputs": [
        {
          "output_type": "stream",
          "name": "stdout",
          "text": [
            "\u001b[2K     \u001b[90m━━━━━━━━━━━━━━━━━━━━━━━━━━━━━━━━━━━━━━━\u001b[0m \u001b[32m45.1/45.1 kB\u001b[0m \u001b[31m782.3 kB/s\u001b[0m eta \u001b[36m0:00:00\u001b[0m\n",
            "\u001b[2K     \u001b[90m━━━━━━━━━━━━━━━━━━━━━━━━━━━━━━━━━━━━━━━━\u001b[0m \u001b[32m6.5/6.5 MB\u001b[0m \u001b[31m15.1 MB/s\u001b[0m eta \u001b[36m0:00:00\u001b[0m\n",
            "\u001b[2K     \u001b[90m━━━━━━━━━━━━━━━━━━━━━━━━━━━━━━━━━━━━━━\u001b[0m \u001b[32m188.7/188.7 kB\u001b[0m \u001b[31m17.8 MB/s\u001b[0m eta \u001b[36m0:00:00\u001b[0m\n",
            "\u001b[?25h  Preparing metadata (setup.py) ... \u001b[?25l\u001b[?25hdone\n",
            "\u001b[2K     \u001b[90m━━━━━━━━━━━━━━━━━━━━━━━━━━━━━━━━━━━━━━━━\u001b[0m \u001b[32m71.1/71.1 kB\u001b[0m \u001b[31m7.1 MB/s\u001b[0m eta \u001b[36m0:00:00\u001b[0m\n",
            "\u001b[2K     \u001b[90m━━━━━━━━━━━━━━━━━━━━━━━━━━━━━━━━━━━━━━━━\u001b[0m \u001b[32m3.1/3.1 MB\u001b[0m \u001b[31m30.9 MB/s\u001b[0m eta \u001b[36m0:00:00\u001b[0m\n",
            "\u001b[?25h  Building wheel for nmslib (setup.py) ... \u001b[?25l\u001b[?25hdone\n",
            "\u001b[31mERROR: pip's dependency resolver does not currently take into account all the packages that are installed. This behaviour is the source of the following dependency conflicts.\n",
            "en-core-web-sm 3.6.0 requires spacy<3.7.0,>=3.6.0, but you have spacy 3.4.4 which is incompatible.\u001b[0m\u001b[31m\n",
            "\u001b[2K     \u001b[90m━━━━━━━━━━━━━━━━━━━━━━━━━━━━━━━━━━━━━━━━\u001b[0m \u001b[32m15.9/15.9 MB\u001b[0m \u001b[31m17.0 MB/s\u001b[0m eta \u001b[36m0:00:00\u001b[0m\n",
            "\u001b[?25h  Preparing metadata (setup.py) ... \u001b[?25l\u001b[?25hdone\n",
            "  Building wheel for en-core-sci-sm (setup.py) ... \u001b[?25l\u001b[?25hdone\n"
          ]
        }
      ],
      "source": [
        "!pip install -q -U spacy\n",
        "!pip install -q scispacy\n",
        "!pip install -q https://s3-us-west-2.amazonaws.com/ai2-s2-scispacy/releases/v0.5.1/en_core_sci_sm-0.5.1.tar.gz"
      ]
    },
    {
      "cell_type": "code",
      "source": [
        "# @title Function 'fetchEntity' to accept text and return the list of entities extracted from the text\n",
        "import scispacy\n",
        "import spacy\n",
        "import en_core_sci_sm\n",
        "def fetchEntity(unstructuredText=\"no input\"):\n",
        "  if unstructuredText==\"no input\":\n",
        "    print(\"No text was passed as input. You need to pass patient related text during function call.\")\n",
        "  else:\n",
        "    nlp_sm = en_core_sci_sm.load()\n",
        "    doc = nlp_sm(unstructuredText)\n",
        "    entityList=list(doc.ents)\n",
        "    #print(\"entityList is as follows: \\n\", entityList)\n",
        "    return entityList"
      ],
      "metadata": {
        "id": "-8tQjsgRiOSe"
      },
      "execution_count": 4,
      "outputs": []
    },
    {
      "cell_type": "code",
      "source": [
        "# @title Example: Read patient history data from mtsamples.csv file and pass the Transcription text as input to the function 'fetchEntity'\n",
        "import pandas as pd\n",
        "mtsample_df=pd.read_csv(\"mtsamples.csv\")\n",
        "text = mtsample_df.loc[110, \"transcription\"]\n",
        "entityList=fetchEntity(text)\n",
        "print(\"entityList obtained follows: \\n\", entityList)\n",
        "#fetchEntity()"
      ],
      "metadata": {
        "colab": {
          "base_uri": "https://localhost:8080/"
        },
        "id": "FLj1WADoqMHZ",
        "outputId": "f1625275-04e8-474e-eaab-a89fc7503a47"
      },
      "execution_count": 2,
      "outputs": [
        {
          "output_type": "stream",
          "name": "stdout",
          "text": [
            "entityList obtained follows: \n",
            " [Pelvic tumor.,2, Cystocele.,3, Uterine fibroid.,3, Rectocele.,PROCEDURE, PERFORMED, Total abdominal hysterectomy.,2, Bilateral salpingooophorectomy.,3, Repair, bladder laceration.,4, Marshall-Marchetti-Krantz cystourethropexy.,6, Posterior colpoperineoplasty.,GROSS FINDINGS, patient, history, abdomen, pelvis, months, D&C, laparoscopy, enlarged mass, ovary, uterus, Curettings, negative, malignancy, patient, cystocele, rectocele, collapsed anterior, posterior vaginal wall.,Upon laparotomy, giant uterine tumor, pelvis, umbilicus, compatible, five-month pregnancy, ovaries, limits, adherence, bladder, giant uterus, mass, edema, inflammation, dissection, laceration, pathology, abdominal cavity, adhesions, upper right quadrant, abdomen, compatible, gallbladder surgery, appendix, anatomic position, ileum, Meckel's diverticulum, gross pathology evident, evidence, metastasis, tumors, left lobe, liver.,Upon, frozen section, diagnosis, initial, partial, uterine fibroid, malignancy.,OPERATIVE PROCEDURE, patient, Operating Room, prepped, low, lithotomy position, general anesthesia, midline incision, umbilicus, abdomen, Bard Parker blade knife, incision, fascia, fascia, midline, muscle fibers, midline, peritoneum, hemostats, Bard Parker, incision, Mayo scissors, Balfour, retractor, wound, giant uterus, soft, compatible, leiomyosarcoma, degenerating fibroid, handled with care, infundibular ligament, right side, isolated, Vicryl suture, avascular area, clamped, ovary, ligament, re-ligated, Vicryl suture, right round ligament, Vicryl suture, avascular space, uterus, infundibulopelvic, ligament, left side, treated, fashion, round ligament, attempt, dissect, bladder flap, anterior, surface, uterus, dissection, bladder, entered, bladder flap, anterior, surface, uterus, bladder, running, locking, stitch, Vicryl suture, serosal muscularis mucosa, layer, seromuscular sutures, two-layer closure, Vicryl suture, uterus, bladder, tested, sterile water, Progressing, removing, uterus, broad ligament, bilaterally, Ochsner forceps, uterus, Mayo scissors, Ochsner, Vicryl suture, uterine blood supply, cardinal ligaments, cervical blood supply, bilaterally, Ochsner forceps, uterus, Bard Parker blade knife, Ochsner, Vicryl suture, cervix, Lahey tenaculum, pubovesicocervical ligament, entered, Bard Parker blade knife, vaginal vault, cervix, uterus, vagina, hysterectomy scissors, vaginal cuff, closed, running, Vicryl suture, locking, stitch, layers, vagina, cardinal ligaments, lateral aspect, uterosacral ligaments, posterior aspect, round ligaments, vaginal, cuff, Vicryl suture, bladder flap, round ligaments, Vicryl suture, re-peritonealized, Vicryl suture, cecum, incision, pelvis, irrigated, water, appendix, Babcock forceps, mesoappendix, clamped with, hemostats, Metzenbaum scissors, hemostats, Vicryl suture, base, appendix, gut suture, clamped, distal appendix, Bard Parker blade knife, base, inverted, pursestring suture, Vicryl, No bleeding, instrument, needle counts, correct, packs, retractors, removed, peritoneum muscle fascia, closed, single-layer closure, running, PDS, closure, Marshall-Marchetti-Krantz cystourethropexy, dissecting, space, Retzius, urethra, vesical junction, periurethral connective tissue, symphysis, pubis, interrupted, Vicryl suture, abdominal wall, closed, skin, closed, skin staples, Attention, vagina, introitus, vagina, Allis forceps, level, Bartholin glands, incision, mucous, cutaneous junction, midline, incision, posterior vaginal mucosa, tunneling fashion, Metzenbaum scissors, flaps, bilaterally, incision, posterior connective tissue, vagina, rectum away, posterior vaginal mucosa, flaps, bilaterally, fashion, rectocele, reduced, levator ani muscles, approximated, midline, interrupted, Vicryl suture, vaginal mucosa, vaginal mucosa, running, Vicryl suture, bulbocavernosus, transverse perinei muscles, midline, interrupted, Vicryl suture, skin, closed, running, gut subcuticular, stitch, vaginal vault, Betadine-soaked Kling, Sterile dressing, patient, recovery room, stable condition]\n"
          ]
        }
      ]
    },
    {
      "cell_type": "code",
      "source": [
        "# @title Example: call the function 'fetchEntity' without any input parameter\n",
        "fetchEntity()"
      ],
      "metadata": {
        "colab": {
          "base_uri": "https://localhost:8080/"
        },
        "id": "MYgEeEWBxGi8",
        "outputId": "8ca12d8e-cffb-4fab-c1fe-04afa6089432"
      },
      "execution_count": 5,
      "outputs": [
        {
          "output_type": "stream",
          "name": "stdout",
          "text": [
            "No text was passed as input. You need to pass patient related text during function call.\n"
          ]
        }
      ]
    },
    {
      "cell_type": "code",
      "source": [
        "# @title Example: call the function 'fetchEntity' with random patient data as input parameter\n",
        "fetchEntity(\"PREOPERATIVE DIAGNOSIS:  ,Carcinoma of the prostate, clinical stage T1C.,POSTOPERATIVE DIAGNOSIS: , Carcinoma of the prostate, clinical stage T1C.,TITLE OF OPERATION: , Cystoscopy, cryosurgical ablation of the prostate.,FINDINGS:  ,After measurement of the prostate, we decided to place 5 rows of needles--row #1 had 3 needles, row #2 at the level of the mid-prostate had 4 needles, row #3 had 2 needles in the right lateral peripheral zone, row #4 was a single needle directly the urethra, and in row #5 were 2 needles placed in the left lateral peripheral zone.  Because of the length of the prostate, a pull-back was performed, pulling row #2 approximately 3 mm and rows #3, #4 and #5 approximately 1 cm back before refreezing.,OPERATION IN DETAIL: , The patient was brought to the operating room and placed in the supine position.  After adequate general endotracheal anesthesia was obtained, the patient was positioned in the dorsal lithotomy position.  Full bowel prep had been obtained prior to the procedure.  After performing flexible cystoscopy, a Foley catheter was placed per urethra into the bladder.  Next, the ultrasound probe was placed into the stabilizer and advanced into the rectum.  An excellent ultrasound image was visualized of the entire prostate, which was re-measured.  Next, the probe template was positioned over the perineum and the template guide brought up on the ultrasound screen in order to guide needle placement.  Then 17-gauge needles were serially placed into the prostate, from an anterior to posterior direction into the prostate.  Ultrasound guidance demonstrated that these needles, numbering approximately 14 to 15 needles, were well placed and spaced throughout the prostate to obtain excellent freezing of the entire gland while sparing the urethra.  Repeat cystoscopy demonstrated a single needle passing through the urethra; and due to the high anterior location of this needle, it was removed.  The CMS urethral warmer was then passed per urethra into the bladder, and flow instituted.  After placing these 17-gauge needles, the prostate was then frozen down to minus 150 degrees for 10 minutes in sequential fashion from anterior to posterior.  The ice ball was monitored and was seen to extend through the capsule of the prostate toward the rectum but not through the rectal wall itself.  Active warming was then performed before refreezing the prostate again and then passively warming it back to room temperature.  The urethral warmer was left on after the needles were removed and the patient brought to the recovery room.  The patient tolerated the procedure well and left the operating room in stable condition. REASON FOR VISIT: , Followup circumcision.,HISTORY OF PRESENT ILLNESS: , The patient had his circumcision performed on 09/16/2007 here at Children's Hospital.  The patient had a pretty significant phimosis and his operative course was smooth.  He did have a little bit of bleeding when he woke in recovery room, which required placement of some additional sutures, but after that, his recovery has been complete.  His mom did note that she had to him a couple of days of oral analgesics, but he seems to be back to normal and pain free now.  He is having no difficulty urinating, and his bowel function remains normal.,PHYSICAL EXAMINATION:  ,Today, The patient looks healthy and happy.  We examined his circumcision site.  His Monocryl sutures are still in place.  The healing is excellent, and there is only a mild amount of residual postoperative swelling.  There was one area where he had some recurrent adhesions at the coronal sulcus, and I gently lysed this today and applied antibiotic ointment showing this to mom had to especially lubricate this area until the healing is completed.,IMPRESSION: , Satisfactory course after circumcision for severe phimosis with no perioperative complications.,PLAN:  ,The patient came in followup for his routine care with Dr. X, but should not need any further routine surgical followup unless he develops any type of difficulty with this surgical wound.  If that does occur, we will be happy to see him back at any time.,\")"
      ],
      "metadata": {
        "colab": {
          "base_uri": "https://localhost:8080/"
        },
        "id": "3Qj5D-eV4AJE",
        "outputId": "c9b606ca-0987-4ca0-d7bb-5103349a46c6"
      },
      "execution_count": 6,
      "outputs": [
        {
          "output_type": "execute_result",
          "data": {
            "text/plain": [
              "[PREOPERATIVE,\n",
              " DIAGNOSIS,\n",
              " prostate,\n",
              " clinical stage T1C.,POSTOPERATIVE DIAGNOSIS,\n",
              " Carcinoma of the,\n",
              " prostate,\n",
              " clinical stage T1C.,TITLE OF,\n",
              " OPERATION,\n",
              " Cystoscopy,\n",
              " cryosurgical ablation,\n",
              " prostate.,FINDINGS,\n",
              " measurement,\n",
              " prostate,\n",
              " needles--row,\n",
              " needles,\n",
              " level,\n",
              " mid-prostate,\n",
              " needles,\n",
              " needles,\n",
              " right lateral peripheral zone,\n",
              " needle,\n",
              " urethra,\n",
              " needles,\n",
              " left lateral peripheral zone,\n",
              " length,\n",
              " prostate,\n",
              " pull-back,\n",
              " rows,\n",
              " refreezing.,OPERATION,\n",
              " DETAIL,\n",
              " patient,\n",
              " operating room,\n",
              " supine position,\n",
              " adequate,\n",
              " general endotracheal anesthesia,\n",
              " patient,\n",
              " positioned,\n",
              " dorsal lithotomy position,\n",
              " Full bowel,\n",
              " procedure,\n",
              " flexible cystoscopy,\n",
              " Foley catheter,\n",
              " bladder,\n",
              " ultrasound probe,\n",
              " stabilizer,\n",
              " advanced,\n",
              " rectum,\n",
              " ultrasound image,\n",
              " prostate,\n",
              " re-measured,\n",
              " probe,\n",
              " template,\n",
              " positioned,\n",
              " perineum,\n",
              " template,\n",
              " ultrasound screen,\n",
              " needle,\n",
              " placement,\n",
              " 17-gauge needles,\n",
              " prostate,\n",
              " anterior,\n",
              " posterior direction,\n",
              " prostate,\n",
              " Ultrasound guidance,\n",
              " needles,\n",
              " needles,\n",
              " prostate,\n",
              " freezing,\n",
              " entire gland,\n",
              " urethra,\n",
              " Repeat cystoscopy,\n",
              " needle,\n",
              " passing,\n",
              " urethra,\n",
              " anterior,\n",
              " location,\n",
              " needle,\n",
              " CMS,\n",
              " urethral warmer,\n",
              " bladder,\n",
              " flow,\n",
              " 17-gauge needles,\n",
              " prostate,\n",
              " frozen,\n",
              " minus,\n",
              " sequential,\n",
              " fashion,\n",
              " anterior,\n",
              " posterior,\n",
              " ice ball,\n",
              " monitored,\n",
              " capsule,\n",
              " prostate,\n",
              " rectum,\n",
              " rectal wall,\n",
              " Active warming,\n",
              " prostate again,\n",
              " passively warming,\n",
              " room,\n",
              " temperature,\n",
              " urethral warmer,\n",
              " needles,\n",
              " removed,\n",
              " patient,\n",
              " recovery room,\n",
              " patient,\n",
              " procedure,\n",
              " operating room,\n",
              " stable condition,\n",
              " VISIT,\n",
              " Followup circumcision.,HISTORY OF PRESENT,\n",
              " ILLNESS,\n",
              " patient,\n",
              " circumcision,\n",
              " Children's Hospital,\n",
              " patient,\n",
              " pretty,\n",
              " phimosis,\n",
              " operative course,\n",
              " smooth,\n",
              " bleeding,\n",
              " woke,\n",
              " recovery room,\n",
              " placement,\n",
              " sutures,\n",
              " recovery,\n",
              " mom,\n",
              " couple,\n",
              " days,\n",
              " oral analgesics,\n",
              " normal,\n",
              " pain free now,\n",
              " bowel function,\n",
              " Today,\n",
              " patient looks healthy,\n",
              " happy,\n",
              " circumcision site,\n",
              " Monocryl sutures,\n",
              " healing,\n",
              " excellent,\n",
              " mild amount,\n",
              " residual,\n",
              " postoperative swelling,\n",
              " recurrent,\n",
              " adhesions,\n",
              " coronal sulcus,\n",
              " I,\n",
              " antibiotic,\n",
              " ointment,\n",
              " mom,\n",
              " healing,\n",
              " completed.,IMPRESSION,\n",
              " Satisfactory course,\n",
              " circumcision,\n",
              " severe,\n",
              " phimosis,\n",
              " perioperative,\n",
              " complications.,PLAN,\n",
              " patient,\n",
              " followup,\n",
              " routine care,\n",
              " Dr. X,\n",
              " surgical followup unless,\n",
              " develops,\n",
              " difficulty,\n",
              " surgical,\n",
              " happy]"
            ]
          },
          "metadata": {},
          "execution_count": 6
        }
      ]
    }
  ],
  "metadata": {
    "colab": {
      "provenance": []
    },
    "kernelspec": {
      "display_name": "Python 3",
      "name": "python3"
    },
    "language_info": {
      "name": "python"
    }
  },
  "nbformat": 4,
  "nbformat_minor": 0
}